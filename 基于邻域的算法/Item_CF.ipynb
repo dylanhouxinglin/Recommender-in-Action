{
 "cells": [
  {
   "cell_type": "code",
   "execution_count": 1,
   "metadata": {},
   "outputs": [],
   "source": [
    "import numpy as np\n",
    "import pandas as pd\n",
    "import warnings\n",
    "import os\n",
    "import sys\n",
    "import math\n",
    "import copy\n",
    "warnings.filterwarnings('ignore')"
   ]
  },
  {
   "cell_type": "code",
   "execution_count": 2,
   "metadata": {},
   "outputs": [],
   "source": [
    "class ItemCF:\n",
    "    def __init__(self, alpha=0.5):\n",
    "        self.alpha = alpha\n",
    "    \n",
    "    def load_data(self):\n",
    "        path1 = 'movielens_data/users.dat'\n",
    "        path2 = 'movielens_data/ratings.dat'\n",
    "        path3 = 'movielens_data/movies.dat'\n",
    "        \n",
    "        users = pd.read_csv(path1, header = None, sep = '::')\n",
    "        ratings = pd.read_csv(path2, header = None, sep = '::')\n",
    "        movies = pd.read_csv(path3, header = None, sep = '::')\n",
    "        \n",
    "        users.columns = ['user_id', 'gender', 'age', 'occupation', 'zip_code']\n",
    "        ratings.columns = ['user_id', 'movie_id', 'rating', 'timestamp']\n",
    "        movies.columns = ['movie_id', 'title', 'genres']\n",
    "        \n",
    "        return users, ratings, movies\n",
    "    \n",
    "    def split_train_test(self, users, ratings):\n",
    "        all_data = ratings.merge(users, on = 'user_id', how = 'left')\n",
    "        \n",
    "        shuffled_indices = np.random.permutation(len(all_data))\n",
    "        test_set_size = int(len(all_data) * 0.2)\n",
    "        \n",
    "        test_indices = shuffled_indices[:test_set_size]\n",
    "        train_indices = shuffled_indices[test_set_size:]\n",
    "        \n",
    "        return all_data.iloc[train_indices], all_data.iloc[test_indices]\n",
    "    \n",
    "    \n",
    "    def item_similarity(self, train_data):\n",
    "        print('establishing the user_item table...')\n",
    "        self.user_items = dict()\n",
    "        for index, row in train_data.iterrows():\n",
    "            if row['user_id'] not in self.user_items:\n",
    "                self.user_items[row['user_id']] = set()\n",
    "            self.user_items[row['user_id']].add(row['movie_id'])\n",
    "        \n",
    "        self.item_list = list(set(train_data['movie_id']))\n",
    "        W = np.zeros([len(self.item_list), len(self.item_list)])\n",
    "        \n",
    "        print('calculating the co-rated matrix...')\n",
    "        N = dict()\n",
    "        k = 1\n",
    "        for user, items in self.user_items.items():\n",
    "            #print(str(k) + '/' + str(len(self.user_items)))\n",
    "            k += 1\n",
    "            for i in items:\n",
    "                if self.item_list.index(i) not in N:\n",
    "                    N[self.item_list.index(i)] = 0\n",
    "                N[self.item_list.index(i)] += 1\n",
    "                for j in items:\n",
    "                    if i == j:\n",
    "                        continue\n",
    "                    W[self.item_list.index(i)][self.item_list.index(j)] += 1\n",
    "        \n",
    "        print('calculating the final similarity matrix...')\n",
    "        for i in range(W.shape[0]):\n",
    "            for j in range(W.shape[1]):\n",
    "                if i == j or W[i][j] == 0:\n",
    "                    continue\n",
    "                #W[i][j] = W[i][j] / math.sqrt(N[i] * N[j])\n",
    "                W[i][j] = (1 / math.log(1 + W[i][j])) / (math.pow(N[i], 1-self.alpha) * math.pow(N[j], self.alpha))\n",
    "            # normalization for W\n",
    "            W[i] = W[i] / W[i].max()\n",
    "    \n",
    "        return W\n",
    "    \n",
    "    def recommend(self, ratings, user, W, k=5):\n",
    "        # if the uesr not in the dict, return an empty list\n",
    "        if user not in self.user_items:\n",
    "            return []\n",
    "        \n",
    "        # get the items which the user interacted \n",
    "        items = self.user_items[user]\n",
    "        recommend_score = dict()\n",
    "        for item in items:\n",
    "            similar_items = sorted(enumerate(W[self.item_list.index(item)]), \n",
    "                                   reverse=True, key=lambda x:x[1])[0:k]\n",
    "            \n",
    "            # if the highest value is zero, return an empty list\n",
    "            if similar_items[0][1] == 0:\n",
    "                return []\n",
    "\n",
    "            first_k = dict()\n",
    "            for s in similar_items:\n",
    "                # {movie_id : similarity value}\n",
    "                m_id = self.item_list[s[0]]\n",
    "                first_k[m_id] = s[1]\n",
    "            \n",
    "            '''\n",
    "            for each similar items, if the user didn't interact with\n",
    "            it, calculate the recommendation score and recommend it\n",
    "            '''\n",
    "            for movie in first_k.keys():\n",
    "                if movie not in self.user_items[user]:   # if user didn't interact with the product\n",
    "                    ave_rating = ratings.loc[ratings['movie_id'] == movie]['rating'].values.mean()\n",
    "                    if first_k[movie] == 0:\n",
    "                        continue\n",
    "                    if movie not in recommend_score:\n",
    "                        recommend_score[movie] = 0\n",
    "                    # recommend_score = similarity_value * average_rating\n",
    "                    recommend_score[movie] += first_k[movie] * ave_rating\n",
    "            \n",
    "        return recommend_score"
   ]
  },
  {
   "cell_type": "code",
   "execution_count": 3,
   "metadata": {},
   "outputs": [
    {
     "name": "stdout",
     "output_type": "stream",
     "text": [
      "data loaded\n"
     ]
    }
   ],
   "source": [
    "users, ratings, movies = ItemCF().load_data()\n",
    "print('data loaded')"
   ]
  },
  {
   "cell_type": "code",
   "execution_count": 4,
   "metadata": {},
   "outputs": [
    {
     "name": "stdout",
     "output_type": "stream",
     "text": [
      "establishing the user_item table...\n",
      "calculating the co-rated matrix...\n",
      "calculating the final similarity matrix...\n",
      "done.\n"
     ]
    }
   ],
   "source": [
    "icf = ItemCF(alpha = 0.7)\n",
    "train_data, test_data = icf.split_train_test(users, ratings)\n",
    "W = icf.item_similarity(train_data.head(int(train_data.shape[0]/100)))\n",
    "print('done.')"
   ]
  },
  {
   "cell_type": "code",
   "execution_count": null,
   "metadata": {},
   "outputs": [],
   "source": [
    "test_user = list(set(test_data['user_id']))\n",
    "for user in test_user:\n",
    "    result = icf.recommend(ratings, user, W, k=3)\n",
    "    if len(result) != 0:\n",
    "        print('user_id: ', user)\n",
    "        for movie, score in result.items():\n",
    "            print(movie, movies.loc[movies['movie_id'] == movie]['title'].values[0], score)\n",
    "        print('==================================================')"
   ]
  },
  {
   "cell_type": "code",
   "execution_count": null,
   "metadata": {},
   "outputs": [],
   "source": []
  },
  {
   "cell_type": "code",
   "execution_count": null,
   "metadata": {},
   "outputs": [],
   "source": []
  }
 ],
 "metadata": {
  "kernelspec": {
   "display_name": "Python 3",
   "language": "python",
   "name": "python3"
  },
  "language_info": {
   "codemirror_mode": {
    "name": "ipython",
    "version": 3
   },
   "file_extension": ".py",
   "mimetype": "text/x-python",
   "name": "python",
   "nbconvert_exporter": "python",
   "pygments_lexer": "ipython3",
   "version": "3.5.2"
  }
 },
 "nbformat": 4,
 "nbformat_minor": 2
}
