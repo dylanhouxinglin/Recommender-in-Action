{
 "cells": [
  {
   "cell_type": "code",
   "execution_count": 1,
   "metadata": {},
   "outputs": [],
   "source": [
    "import random\n",
    "import math\n",
    "import numpy as np\n",
    "import pandas as pd\n",
    "import warnings\n",
    "import copy\n",
    "import sys\n",
    "from scipy.sparse import csc_matrix, linalg, eye\n",
    "warnings.filterwarnings('ignore')"
   ]
  },
  {
   "cell_type": "code",
   "execution_count": 2,
   "metadata": {},
   "outputs": [],
   "source": [
    "class Dataset:\n",
    "    def __init__(self, path='movielens_data/ratings.dat'):\n",
    "        self.data = self.load_data(path)\n",
    "    \n",
    "    def load_data(self, path):\n",
    "        data = []\n",
    "        for l in open(path):\n",
    "            data.append(tuple(map(int, l.strip().split('::')[:2])))\n",
    "            \n",
    "        return data\n",
    "    \n",
    "    def split_data(self, M=5, k=0, seed=1):\n",
    "        test = []\n",
    "        train = []\n",
    "        random.seed(seed)\n",
    "        \n",
    "        for user, item in self.data:\n",
    "            if random.randint(0, M-1) == k:\n",
    "                test.append((user, item))\n",
    "            else:\n",
    "                train.append((user, item))\n",
    "        \n",
    "        def convert_dict(data):\n",
    "            data_dict = {}\n",
    "            for user, item in data:\n",
    "                if user not in data_dict:\n",
    "                    data_dict[user] = set()\n",
    "                data_dict[user].add(item)\n",
    "            data_dict = {k: list(data_dict[k]) for k in data_dict}\n",
    "            return data_dict\n",
    "        \n",
    "        return convert_dict(train), convert_dict(test)"
   ]
  },
  {
   "cell_type": "code",
   "execution_count": 3,
   "metadata": {},
   "outputs": [],
   "source": [
    "class PersonalRank:\n",
    "    def __init__(self, train_data, alpha, N):\n",
    "        self.items, self.users = self.set_index(train_data)\n",
    "        self.M = self.transition_martix(train_data)\n",
    "        self.alpha = alpha\n",
    "        self.N = N\n",
    "        \n",
    "        \n",
    "    def set_index(self, train_data):\n",
    "        items = []\n",
    "        for user in train_data:\n",
    "            items.extend(train_data[user])\n",
    "        \n",
    "        self.id2item = list(set(items))\n",
    "        users = {u: i for i, u in enumerate(train_data.keys())}\n",
    "        items = {u: i+len(users) for i, u in enumerate(self.id2item)}\n",
    "        \n",
    "        # users: {user_id : e_id}\n",
    "        # items: {item_id : e_id+len(users)}\n",
    "        \n",
    "        return items, users\n",
    "    \n",
    "    \n",
    "    def transition_martix(self, train_data):\n",
    "        # item_user tabel\n",
    "        item_user = dict()\n",
    "        for user, items in train_data.items():\n",
    "            for item in items:\n",
    "                if item not in item_user:\n",
    "                    item_user[item] = []\n",
    "                item_user[item].append(user)\n",
    "                \n",
    "        data, row, col = [], [], []\n",
    "        for u in train_data.keys():\n",
    "            for v in train_data[u]:\n",
    "                # users' out = length of all the items he likes\n",
    "                data.append(1 / len(train_data[u]))   # length of items in each user\n",
    "                row.append(self.users[u])             # e_id of user\n",
    "                col.append(self.items[v])             # e_id of item + len(users)\n",
    "        \n",
    "        for v in item_user.keys():\n",
    "            for u in item_user[v]:\n",
    "                # items' out = length of users who like it\n",
    "                data.append(1 / len(item_user[v]))     # length of users in each item\n",
    "                row.append(self.items[v])              # e_id of item + len(users)\n",
    "                col.append(self.users[u])              # e_id of user\n",
    "                \n",
    "        M = csc_matrix((data, (row, col)), shape=(len(data), len(data)))\n",
    "        \n",
    "        self.data = data\n",
    "        \n",
    "        return M\n",
    "    \n",
    "    \n",
    "    def recommend(self, user, train_data):\n",
    "        seen_items = set(train_data[user])\n",
    "        \n",
    "        # r = (1-a)r0 + a(M.T)r\n",
    "        r0 = [0] * len(self.data)\n",
    "        r0[self.users[user]] = 1\n",
    "        r0 = csc_matrix(r0)\n",
    "        \n",
    "        # r = (1-a)(I-aM)^-1 * r0\n",
    "        r  = (1 - self.alpha) * linalg.inv(eye(len(self.data)) - self.alpha * self.M.T) * r0\n",
    "        \n",
    "        r = r.T.toarray()[0][len(self.users):]\n",
    "        idx = np.argsort(-r)[:self.N]\n",
    "        recs = [(self.id2item[ii], r[ii]) for ii in idx]\n",
    "        \n",
    "        return recs"
   ]
  },
  {
   "cell_type": "code",
   "execution_count": 4,
   "metadata": {},
   "outputs": [],
   "source": [
    "dataset = Dataset()\n",
    "train_data, test_data = dataset.split_data()"
   ]
  },
  {
   "cell_type": "code",
   "execution_count": 5,
   "metadata": {},
   "outputs": [],
   "source": [
    "pr = PersonalRank(train_data, 1, 1)"
   ]
  },
  {
   "cell_type": "code",
   "execution_count": null,
   "metadata": {
    "scrolled": true
   },
   "outputs": [],
   "source": [
    "pr.recommend(1, train_data)"
   ]
  },
  {
   "cell_type": "code",
   "execution_count": null,
   "metadata": {},
   "outputs": [],
   "source": []
  },
  {
   "cell_type": "code",
   "execution_count": null,
   "metadata": {},
   "outputs": [],
   "source": []
  },
  {
   "cell_type": "code",
   "execution_count": null,
   "metadata": {},
   "outputs": [],
   "source": [
    "# extend and append in list"
   ]
  }
 ],
 "metadata": {
  "kernelspec": {
   "display_name": "Python 3",
   "language": "python",
   "name": "python3"
  },
  "language_info": {
   "codemirror_mode": {
    "name": "ipython",
    "version": 3
   },
   "file_extension": ".py",
   "mimetype": "text/x-python",
   "name": "python",
   "nbconvert_exporter": "python",
   "pygments_lexer": "ipython3",
   "version": "3.5.2"
  }
 },
 "nbformat": 4,
 "nbformat_minor": 2
}
