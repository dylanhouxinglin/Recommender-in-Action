{
 "cells": [
  {
   "cell_type": "code",
   "execution_count": 104,
   "metadata": {},
   "outputs": [],
   "source": [
    "import random\n",
    "import math\n",
    "import numpy as np\n",
    "import time\n",
    "import pandas as pd\n",
    "from tqdm import tqdm, trange\n",
    "import warnings\n",
    "import copy\n",
    "import sys\n",
    "warnings.filterwarnings('ignore')"
   ]
  },
  {
   "cell_type": "code",
   "execution_count": 105,
   "metadata": {},
   "outputs": [],
   "source": [
    "class Dataset:\n",
    "    def __init__(self, path='movielens_data/ratings.dat'):\n",
    "        self.data = self.load_data(path)\n",
    "    \n",
    "    def load_data(self, path):\n",
    "        data = []\n",
    "        for l in open(path):\n",
    "            data.append(tuple(map(int, l.strip().split('::')[:2])))\n",
    "            \n",
    "        return data\n",
    "    \n",
    "    def split_data(self, M=5, k=0, seed=1):\n",
    "        test = []\n",
    "        train = []\n",
    "        random.seed(seed)\n",
    "        \n",
    "        for user, item in self.data:\n",
    "            if random.randint(0, M-1) == k:\n",
    "                test.append((user, item))\n",
    "            else:\n",
    "                train.append((user, item))\n",
    "        \n",
    "        def convert_dict(data):\n",
    "            data_dict = {}\n",
    "            for user, item in data:\n",
    "                if user not in data_dict:\n",
    "                    data_dict[user] = set()\n",
    "                data_dict[user].add(item)\n",
    "            data_dict = {k: list(data_dict[k]) for k in data_dict}\n",
    "            return data_dict\n",
    "        \n",
    "        return convert_dict(train), convert_dict(test)"
   ]
  },
  {
   "cell_type": "code",
   "execution_count": 106,
   "metadata": {},
   "outputs": [],
   "source": [
    "class Metrics:\n",
    "    def __init__(self, recs, test_data):\n",
    "        self.prec = self.precision(recs, test_data)\n",
    "        self.rc = self.recall(recs, test_data)\n",
    "    \n",
    "    \n",
    "    def precision(self, recs, test_data):\n",
    "        correct = 0\n",
    "        total = 0\n",
    "        for user, items in test_data.items():\n",
    "            # items : movies which user have interacted\n",
    "            rank = recs[user]\n",
    "            total += len(rank)\n",
    "            for movie in rank:\n",
    "                # movie : our recommendation item\n",
    "                if movie in items:\n",
    "                    correct += 1\n",
    "        prec = round((correct / total)*100, 4)\n",
    "        \n",
    "        return prec\n",
    "    \n",
    "    \n",
    "    def recall(self, recs, test_data):\n",
    "        correct = 0\n",
    "        total = 0\n",
    "        for user, items in test_data.items():\n",
    "            rank = recs[user]\n",
    "            total += len(items)\n",
    "            for movie in rank:\n",
    "                if movie in items:\n",
    "                    correct += 1\n",
    "        rc = round((correct / total)*100, 4)\n",
    "        \n",
    "        return rc"
   ]
  },
  {
   "cell_type": "code",
   "execution_count": 108,
   "metadata": {},
   "outputs": [],
   "source": [
    "class LFM:\n",
    "    def __init__(self, epoches=5, K=10, alpha=0.05, lambda_r=0.01, \n",
    "                 ratio=1, N=10):\n",
    "        self.epoches = epoches\n",
    "        self.item_pool = []\n",
    "        self.alpha = alpha\n",
    "        self.lambda_r = lambda_r\n",
    "        self.K = K\n",
    "        self.ratio = ratio\n",
    "        self.N = N\n",
    "        self.items = []\n",
    "        self.pops = []\n",
    "    \n",
    "\n",
    "    def get_itempool(self, train):\n",
    "        all_items = {}\n",
    "        for user in train:\n",
    "            for item in train[user]:\n",
    "                if item not in all_items:\n",
    "                    all_items[item] = 0\n",
    "                all_items[item] += 1\n",
    "                \n",
    "        all_items = list(all_items.items())\n",
    "        \n",
    "        self.items = [x[0] for x in all_items]\n",
    "        self.pops = [x[1] for x in all_items]\n",
    "        \n",
    "        for user, items in train.items():\n",
    "            for item in items:\n",
    "                self.item_pool.append(item)\n",
    "\n",
    "        '''\n",
    "        popular = sorted(all_items, reverse=True, key=lambda x:x[1])\n",
    "        for p in popular:\n",
    "            self.item_pool.append(p[0])\n",
    "        '''\n",
    "    \n",
    "    \n",
    "    def collect_samples(self, items):\n",
    "        # collect positive samples\n",
    "        labels = dict()\n",
    "        for movie in items:\n",
    "            labels[movie] = 1\n",
    "        \n",
    "        # collect negative smaples\n",
    "        n_negative = 0\n",
    "        i = 0\n",
    "        \n",
    "        while (n_negative < len(items)*self.ratio) and (i < len(self.item_pool)-1):\n",
    "            negative_sample = self.item_pool[np.random.randint(0, len(self.item_pool)-1)]\n",
    "            #negative_sample = self.item_pool[i]\n",
    "            i += 1\n",
    "            if negative_sample in labels:\n",
    "                continue\n",
    "            labels[negative_sample] = 0\n",
    "            n_negative += 1\n",
    "        \n",
    "        return labels\n",
    "    \n",
    "    def collect_samples2(self, items):\n",
    "        # collect positive samples\n",
    "        labels = dict()\n",
    "        for movie in items:\n",
    "            labels[movie] = 1\n",
    "        \n",
    "        # collect negative smaples\n",
    "        n_negative = 0\n",
    "        \n",
    "        seen = set(items)\n",
    "        pos_num = len(seen)\n",
    "        item = np.random.choice(self.items, int(pos_num*self.ratio*3), self.pops)\n",
    "        item = [x for x in item if x not in seen][:int(pos_num*self.ratio)]\n",
    "        for i in item:\n",
    "            labels[i] = 0\n",
    "        \n",
    "        return labels\n",
    "    \n",
    "    \n",
    "    def loss(self, train_error):\n",
    "        C = 0.0\n",
    "        for user, error in train_error.items():\n",
    "            C += error\n",
    "            \n",
    "        return round(C, 3)\n",
    "        \n",
    "    \n",
    "    \n",
    "    def predict(self, user, item):\n",
    "        rank = np.dot(self.P[user], self.Q[item])\n",
    "        rank = 1.0/(1 + np.exp(-rank))\n",
    "        \n",
    "        return rank\n",
    "    \n",
    "    \n",
    "    def init_model(self, train_data):\n",
    "        self.P = dict()\n",
    "        self.Q = dict()\n",
    "        for user in train_data:\n",
    "            self.P[user] = np.random.random(self.K)\n",
    "        for item in self.items:\n",
    "            self.Q[item] = np.random.random(self.K)\n",
    "      \n",
    "    \n",
    "    def train(self, train_data):    \n",
    "        self.init_model(train_data)\n",
    "        \n",
    "        error_dict = dict()\n",
    "        for user in train_data.keys():\n",
    "            error_dict[user] = 0\n",
    "            \n",
    "        \n",
    "        for epoch in trange(self.epoches):\n",
    "            train_error = copy.deepcopy(error_dict)\n",
    "            for user, items in train_data.items():\n",
    "                samples = self.collect_samples2(items)\n",
    "                for item, label in samples.items():\n",
    "                    error = label - self.predict(user, item)\n",
    "                    self.P[user] += self.alpha * (error * self.Q[item] - self.lambda_r * self.P[user])\n",
    "                    self.Q[item] += self.alpha * (error * self.P[user] - self.lambda_r * self.Q[item])\n",
    "\n",
    "                    train_error[user] += np.sqrt(np.square(error))\n",
    "\n",
    "            #lr *= 0.9 \n",
    "            print('loss: {}'.format(self.loss(train_error)))\n",
    "            \n",
    "    \n",
    "    def recommend(self, train_data, test_data):\n",
    "        recs = dict()\n",
    "        recommend_score = dict()\n",
    "        for user, u_items in test_data.items():\n",
    "            recs[user] = []\n",
    "            recommend_score.clear()\n",
    "            for item in self.items:\n",
    "                if item not in train_data[user]:\n",
    "                    # recommend_score: item : score\n",
    "                    recommend_score[item] = np.dot(self.P[user], self.Q[item])\n",
    "            for movie in sorted(list(recommend_score.items()), reverse=True, key=lambda x:x[1])[0:self.N]:\n",
    "                recs[user].append(movie[0])\n",
    "        \n",
    "        return recs"
   ]
  },
  {
   "cell_type": "code",
   "execution_count": 109,
   "metadata": {},
   "outputs": [],
   "source": [
    "dataset = Dataset()\n",
    "train_data, test_data = dataset.split_data()"
   ]
  },
  {
   "cell_type": "code",
   "execution_count": 110,
   "metadata": {},
   "outputs": [],
   "source": [
    "lfm = LFM()\n",
    "lfm.get_itempool(train_data)"
   ]
  },
  {
   "cell_type": "code",
   "execution_count": 111,
   "metadata": {
    "scrolled": true
   },
   "outputs": [
    {
     "name": "stderr",
     "output_type": "stream",
     "text": [
      "\n",
      "  0%|          | 0/5 [00:00<?, ?it/s]\u001b[A\n",
      " 20%|██        | 1/5 [00:44<02:59, 44.77s/it]\u001b[A"
     ]
    },
    {
     "name": "stdout",
     "output_type": "stream",
     "text": [
      "loss: 607411.832\n"
     ]
    },
    {
     "name": "stderr",
     "output_type": "stream",
     "text": [
      "\n",
      " 40%|████      | 2/5 [01:26<02:11, 43.99s/it]\u001b[A"
     ]
    },
    {
     "name": "stdout",
     "output_type": "stream",
     "text": [
      "loss: 499337.765\n"
     ]
    },
    {
     "name": "stderr",
     "output_type": "stream",
     "text": [
      "\n",
      " 60%|██████    | 3/5 [02:11<01:28, 44.13s/it]\u001b[A"
     ]
    },
    {
     "name": "stdout",
     "output_type": "stream",
     "text": [
      "loss: 447994.259\n"
     ]
    },
    {
     "name": "stderr",
     "output_type": "stream",
     "text": [
      "\n",
      " 80%|████████  | 4/5 [02:58<00:45, 45.02s/it]\u001b[A"
     ]
    },
    {
     "name": "stdout",
     "output_type": "stream",
     "text": [
      "loss: 419919.474\n"
     ]
    },
    {
     "name": "stderr",
     "output_type": "stream",
     "text": [
      "\n",
      "100%|██████████| 5/5 [03:43<00:00, 45.09s/it]\u001b[A"
     ]
    },
    {
     "name": "stdout",
     "output_type": "stream",
     "text": [
      "loss: 402508.943\n"
     ]
    }
   ],
   "source": [
    "lfm.train(train_data)"
   ]
  },
  {
   "cell_type": "code",
   "execution_count": 112,
   "metadata": {},
   "outputs": [],
   "source": [
    "recs = lfm.recommend(train_data, test_data)"
   ]
  },
  {
   "cell_type": "code",
   "execution_count": 113,
   "metadata": {},
   "outputs": [],
   "source": [
    "metric = Metrics(recs, test_data)"
   ]
  },
  {
   "cell_type": "code",
   "execution_count": 114,
   "metadata": {},
   "outputs": [
    {
     "data": {
      "text/plain": [
       "7.4158"
      ]
     },
     "execution_count": 114,
     "metadata": {},
     "output_type": "execute_result"
    }
   ],
   "source": [
    "metric.rc"
   ]
  },
  {
   "cell_type": "code",
   "execution_count": 115,
   "metadata": {},
   "outputs": [
    {
     "data": {
      "text/plain": [
       "24.6179"
      ]
     },
     "execution_count": 115,
     "metadata": {},
     "output_type": "execute_result"
    }
   ],
   "source": [
    "metric.prec"
   ]
  },
  {
   "cell_type": "code",
   "execution_count": null,
   "metadata": {},
   "outputs": [],
   "source": []
  }
 ],
 "metadata": {
  "kernelspec": {
   "display_name": "Python 3",
   "language": "python",
   "name": "python3"
  },
  "language_info": {
   "codemirror_mode": {
    "name": "ipython",
    "version": 3
   },
   "file_extension": ".py",
   "mimetype": "text/x-python",
   "name": "python",
   "nbconvert_exporter": "python",
   "pygments_lexer": "ipython3",
   "version": "3.5.2"
  }
 },
 "nbformat": 4,
 "nbformat_minor": 2
}
