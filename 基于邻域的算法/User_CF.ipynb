{
 "cells": [
  {
   "cell_type": "code",
   "execution_count": 125,
   "metadata": {},
   "outputs": [],
   "source": [
    "import numpy as np\n",
    "import pandas as pd\n",
    "import warnings\n",
    "import os\n",
    "import sys\n",
    "import math\n",
    "import copy\n",
    "warnings.filterwarnings('ignore')\n",
    "np.set_printoptions(suppress=True)\n",
    "\n",
    "\n",
    "class UserCF:\n",
    "    def __init__(self):\n",
    "        pass\n",
    "    \n",
    "    def load_data(self):\n",
    "        path1 = 'movielens_data/users.dat'\n",
    "        path2 = 'movielens_data/ratings.dat'\n",
    "        path3 = 'movielens_data/movies.dat'\n",
    "        \n",
    "        users = pd.read_csv(path1, header = None, sep = '::')\n",
    "        ratings = pd.read_csv(path2, header = None, sep = '::')\n",
    "        movies = pd.read_csv(path3, header = None, sep = '::')\n",
    "        \n",
    "        users.columns = ['user_id', 'gender', 'age', 'occupation', 'zip_code']\n",
    "        ratings.columns = ['user_id', 'movie_id', 'rating', 'timestamp']\n",
    "        movies.columns = ['movie_id', 'title', 'genres']\n",
    "        \n",
    "        return users, ratings, movies\n",
    "    \n",
    "    def split_train_test(self, users, ratings):\n",
    "        all_data = ratings.merge(users, on = 'user_id', how = 'left')\n",
    "        \n",
    "        shuffled_indices = np.random.permutation(len(all_data))\n",
    "        test_set_size = int(len(all_data) * 0.2)\n",
    "        \n",
    "        test_indices = shuffled_indices[:test_set_size]\n",
    "        train_indices = shuffled_indices[test_set_size:]\n",
    "        \n",
    "        return all_data.iloc[train_indices], all_data.iloc[test_indices]\n",
    "    \n",
    "    def user_similarity(self, train_data):\n",
    "        \n",
    "        # build inverse table for item_users\n",
    "        print('establising the inverse table...')\n",
    "        self.item_users = dict()\n",
    "        for index, row in train_data.iterrows():\n",
    "            if row['movie_id'] not in self.item_users:\n",
    "                self.item_users[row['movie_id']] = set()\n",
    "            self.item_users[row['movie_id']].add(row['user_id'])\n",
    "            \n",
    "        # calculate co-rated items between users\n",
    "        print('calculating the co-rated matrix...')\n",
    "        self.user_list = list(set(train_data['user_id']))\n",
    "        movie_list_len = len(set(train_data['movie_id']))\n",
    "        \n",
    "        C = [[0 for i in range(len(self.user_list))] for i in range(len(self.user_list))]\n",
    "        W = copy.deepcopy(C)\n",
    "        \n",
    "        self.N = dict()\n",
    "        i = 1\n",
    "        for movie, users in self.item_users.items():\n",
    "            #print(str(i) + ' in ' + str(movie_list_len))\n",
    "            i += 1\n",
    "            for u in users:\n",
    "                if self.user_list.index(u) not in self.N:\n",
    "                    self.N[self.user_list.index(u)] = 0\n",
    "                self.N[self.user_list.index(u)] += 1\n",
    "                for v in users:\n",
    "                    if u == v:\n",
    "                        continue\n",
    "                    #C[self.user_list.index(u)][self.user_list.index(v)] += 1\n",
    "                    C[self.user_list.index(u)][self.user_list.index(v)] += 1 / math.log(1 + len(users))\n",
    "                    \n",
    "        # calculate finial similarity matrix W\n",
    "        print('calculating the final similarity matrix...')\n",
    "        for i in range(len(C)):\n",
    "            for j in range(len(C)):\n",
    "                if i == j or C[i][j] == 0:\n",
    "                    continue\n",
    "                W[i][j] = C[i][j] / math.sqrt(self.N[i] * self.N[j])\n",
    "        \n",
    "        return W\n",
    "    \n",
    "    def recommend(self, ratings, user, W, k=5, threshold=3):\n",
    "        # find the first k highest similarity values\n",
    "        similar = sorted(enumerate(W[self.user_list.index(user)]), reverse=True, key=lambda x:x[1])[0:k]\n",
    "        \n",
    "        movie_list = np.array(k)\n",
    "        first_k = dict()\n",
    "        for s in similar:\n",
    "            # {user_index : similarity_value}\n",
    "            first_k[s[0]] = s[1]\n",
    "            # find the movies which the similar uses have interacted\n",
    "            movie_list = np.append(movie_list, np.array(ratings.loc[ratings['user_id'] == s[0]]['movie_id'].values))\n",
    "        \n",
    "        # if the highest value zero, retun emtpy\n",
    "        if similar[0][1] == 0:\n",
    "            return []\n",
    "    \n",
    "    \n",
    "        recommend_score = dict()\n",
    "    \n",
    "        # if users's 'similar users' have touched the product,\n",
    "        # but the user have interacted with the producet,\n",
    "        # give an evluation more than the threshold,\n",
    "        # then recommend it to the current user\n",
    "        for movie in movie_list:\n",
    "            if movie in self.item_users:\n",
    "                if user not in self.item_users[movie]:    # if user didn't interact with the product\n",
    "                    for u in first_k.keys():\n",
    "                        if u in self.item_users[movie]:    # if the similar users have interacted with the product\n",
    "                            rating = int(ratings.loc[(ratings['user_id'] == u) & (ratings['movie_id'] == movie)]['rating'])\n",
    "                            if rating >= threshold:\n",
    "                                if movie not in recommend_score:\n",
    "                                    recommend_score[movie] = 0\n",
    "                                recommend_score[movie] += first_k[u] * rating     \n",
    "\n",
    "                        \n",
    "        return recommend_score"
   ]
  },
  {
   "cell_type": "code",
   "execution_count": 23,
   "metadata": {},
   "outputs": [
    {
     "name": "stdout",
     "output_type": "stream",
     "text": [
      "data loaded\n"
     ]
    }
   ],
   "source": [
    "users, ratings, movies = UserCF().load_data()\n",
    "print('data loaded')"
   ]
  },
  {
   "cell_type": "code",
   "execution_count": 126,
   "metadata": {},
   "outputs": [
    {
     "name": "stdout",
     "output_type": "stream",
     "text": [
      "establising the inverse table...\n",
      "calculating the co-rated matrix...\n",
      "calculating the final similarity matrix...\n",
      "done\n"
     ]
    }
   ],
   "source": [
    "ucf = UserCF()\n",
    "train_data, test_data = ucf.split_train_test(users, ratings)\n",
    "W = ucf.user_similarity(train_data.head(int(train_data.shape[0]/1000)))\n",
    "print('done')"
   ]
  },
  {
   "cell_type": "code",
   "execution_count": 127,
   "metadata": {
    "scrolled": false
   },
   "outputs": [
    {
     "name": "stdout",
     "output_type": "stream",
     "text": [
      "user_id:  25\n",
      "1965 Repo Man (1984) 3.6067376022224087\n",
      "==================================================\n",
      "user_id:  1873\n",
      "953 It's a Wonderful Life (1946) 4.551196133134186\n",
      "==================================================\n",
      "user_id:  2885\n",
      "1965 Repo Man (1984) 3.6067376022224087\n",
      "==================================================\n",
      "user_id:  3780\n",
      "3578 Gladiator (2000) 2.275598066567093\n",
      "==================================================\n",
      "user_id:  5389\n",
      "527 Schindler's List (1993) 3.6067376022224087\n",
      "==================================================\n",
      "user_id:  5976\n",
      "527 Schindler's List (1993) 3.6067376022224087\n",
      "==================================================\n",
      "user_id:  5982\n",
      "3785 Scary Movie (2000) 4.551196133134186\n",
      "==================================================\n"
     ]
    }
   ],
   "source": [
    "test_user = list(set(test_data['user_id']))\n",
    "for user in test_user:\n",
    "    if user not in ucf.user_list:\n",
    "        continue\n",
    "    result = ucf.recommend(ratings, user, W, k=3, threshold=5)\n",
    "    if len(result) != 0:\n",
    "        print('user_id: ', user)\n",
    "        for movie, score in result.items():\n",
    "            print(movie, movies.loc[movies['movie_id'] == movie]['title'].values[0], score)\n",
    "        print('==================================================')"
   ]
  },
  {
   "cell_type": "code",
   "execution_count": 88,
   "metadata": {},
   "outputs": [
    {
     "data": {
      "text/html": [
       "<div>\n",
       "<style scoped>\n",
       "    .dataframe tbody tr th:only-of-type {\n",
       "        vertical-align: middle;\n",
       "    }\n",
       "\n",
       "    .dataframe tbody tr th {\n",
       "        vertical-align: top;\n",
       "    }\n",
       "\n",
       "    .dataframe thead th {\n",
       "        text-align: right;\n",
       "    }\n",
       "</style>\n",
       "<table border=\"1\" class=\"dataframe\">\n",
       "  <thead>\n",
       "    <tr style=\"text-align: right;\">\n",
       "      <th></th>\n",
       "      <th>user_id</th>\n",
       "      <th>movie_id</th>\n",
       "      <th>rating</th>\n",
       "      <th>timestamp</th>\n",
       "    </tr>\n",
       "  </thead>\n",
       "  <tbody>\n",
       "    <tr>\n",
       "      <th>0</th>\n",
       "      <td>1</td>\n",
       "      <td>1193</td>\n",
       "      <td>5</td>\n",
       "      <td>978300760</td>\n",
       "    </tr>\n",
       "    <tr>\n",
       "      <th>1</th>\n",
       "      <td>1</td>\n",
       "      <td>661</td>\n",
       "      <td>3</td>\n",
       "      <td>978302109</td>\n",
       "    </tr>\n",
       "    <tr>\n",
       "      <th>2</th>\n",
       "      <td>1</td>\n",
       "      <td>914</td>\n",
       "      <td>3</td>\n",
       "      <td>978301968</td>\n",
       "    </tr>\n",
       "    <tr>\n",
       "      <th>3</th>\n",
       "      <td>1</td>\n",
       "      <td>3408</td>\n",
       "      <td>4</td>\n",
       "      <td>978300275</td>\n",
       "    </tr>\n",
       "    <tr>\n",
       "      <th>4</th>\n",
       "      <td>1</td>\n",
       "      <td>2355</td>\n",
       "      <td>5</td>\n",
       "      <td>978824291</td>\n",
       "    </tr>\n",
       "  </tbody>\n",
       "</table>\n",
       "</div>"
      ],
      "text/plain": [
       "   user_id  movie_id  rating  timestamp\n",
       "0        1      1193       5  978300760\n",
       "1        1       661       3  978302109\n",
       "2        1       914       3  978301968\n",
       "3        1      3408       4  978300275\n",
       "4        1      2355       5  978824291"
      ]
     },
     "execution_count": 88,
     "metadata": {},
     "output_type": "execute_result"
    }
   ],
   "source": [
    "ratings.head()"
   ]
  },
  {
   "cell_type": "code",
   "execution_count": 133,
   "metadata": {},
   "outputs": [
    {
     "name": "stdout",
     "output_type": "stream",
     "text": [
      "140478493192648 140478493192648\n"
     ]
    }
   ],
   "source": [
    "a = [0,1,2]\n",
    "b = [a] * len(a)\n",
    "for i in range(len(b)):\n",
    "    for j in range(len(b)):\n",
    "        if i == j:\n",
    "            continue\n",
    "        b[i][j] += 3\n",
    "print(id(b[0]), id(b[1]))"
   ]
  },
  {
   "cell_type": "code",
   "execution_count": 131,
   "metadata": {},
   "outputs": [
    {
     "data": {
      "text/plain": [
       "[[0, 3, 3], [3, 0, 3], [3, 3, 0]]"
      ]
     },
     "execution_count": 131,
     "metadata": {},
     "output_type": "execute_result"
    }
   ],
   "source": [
    "a = [0,1,2]\n",
    "b = [[0 for i in range(len(a))] for i in range(len(a))]\n",
    "for i in range(len(b)):\n",
    "    for j in range(len(b)):\n",
    "        if i == j:\n",
    "            continue\n",
    "        b[i][j] += 3\n",
    "b"
   ]
  },
  {
   "cell_type": "code",
   "execution_count": null,
   "metadata": {},
   "outputs": [],
   "source": []
  }
 ],
 "metadata": {
  "kernelspec": {
   "display_name": "Python 3",
   "language": "python",
   "name": "python3"
  },
  "language_info": {
   "codemirror_mode": {
    "name": "ipython",
    "version": 3
   },
   "file_extension": ".py",
   "mimetype": "text/x-python",
   "name": "python",
   "nbconvert_exporter": "python",
   "pygments_lexer": "ipython3",
   "version": "3.6.7"
  }
 },
 "nbformat": 4,
 "nbformat_minor": 2
}
