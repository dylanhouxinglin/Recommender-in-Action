{
 "cells": [
  {
   "cell_type": "code",
   "execution_count": 38,
   "metadata": {},
   "outputs": [],
   "source": [
    "import numpy as np\n",
    "import pandas as pd\n",
    "import random\n",
    "import math"
   ]
  },
  {
   "cell_type": "code",
   "execution_count": 74,
   "metadata": {},
   "outputs": [],
   "source": [
    "class DataSet:\n",
    "    def __init__(self, path1, path2):\n",
    "        self.data, self.profile = self.load_data(path1, path2)\n",
    "        \n",
    "    def load_data(self, path1, path2):\n",
    "        data = []\n",
    "        with open(path1) as file:\n",
    "            for line in file:\n",
    "                line = line.strip().split('\\t')[0:2]\n",
    "                data.append(line)\n",
    "        print('file1 loaded.')\n",
    "        \n",
    "        with open(path2) as file:\n",
    "            profile = dict()\n",
    "            for line in file:\n",
    "                user, gender, age, country, signup = line.strip().split('\\t')\n",
    "                if age == '':\n",
    "                    age = -1\n",
    "                profile[user] = {\n",
    "                    'gender' : gender,\n",
    "                    'age' : int(age),\n",
    "                    'country' : country\n",
    "                }\n",
    "        print('file2 loaded')\n",
    "        \n",
    "        # get first 10000 users\n",
    "        users = set(list(profile.keys())[:10000])\n",
    "        data = [x for x in data if x[0] in users]\n",
    "        profile = {k:profile[k] for k in users}\n",
    "        \n",
    "        # data : user : singer_id\n",
    "        # profile : user : gender, age, country\n",
    "        \n",
    "        return data, profile\n",
    "    \n",
    "    \n",
    "    def split_data(self):\n",
    "        train, test = [], []\n",
    "        random.seed(1)\n",
    "        for user, item in self.data:\n",
    "            if random.randint(0, 9) == 1:  \n",
    "                test.append((user, item))\n",
    "            else:\n",
    "                train.append((user, item))\n",
    "        \n",
    "        # create user-item tables\n",
    "        def convert_dict(data):\n",
    "            data_dict = {}\n",
    "            for user, item in data:\n",
    "                if user not in data_dict:\n",
    "                    data_dict[user] = set()\n",
    "                data_dict[user].add(item)\n",
    "            data_dict = {k: list(data_dict[k]) for k in data_dict}\n",
    "            return data_dict\n",
    "        \n",
    "        # train/test : {user : (singer1, singer2, ...)}\n",
    "\n",
    "        return convert_dict(train), convert_dict(test), self.profile"
   ]
  },
  {
   "cell_type": "code",
   "execution_count": 91,
   "metadata": {},
   "outputs": [],
   "source": [
    "class Metrics:\n",
    "    def __init__(self, recs, train_data, test_data):\n",
    "        self.prec = self.precision(recs, train_data, test_data)\n",
    "        self.rc = self.recall(recs, train_data, test_data)\n",
    "        self.cov = self.coverage(recs, test_data, train_data)\n",
    "    \n",
    "    \n",
    "    def precision(self, recs, train_data, test_data):\n",
    "        correct = 0\n",
    "        total = 0\n",
    "        for user, items in test_data.items():\n",
    "            # items : movies which user have interacted\n",
    "            if user not in recs:\n",
    "                continue\n",
    "            rank = recs[user]\n",
    "            total += len(rank)\n",
    "            for movie in rank:\n",
    "                # movie : our recommendation item\n",
    "                if movie in items:\n",
    "                    correct += 1\n",
    "        prec = round((correct / total)*100, 4)\n",
    "        \n",
    "        return prec\n",
    "    \n",
    "    \n",
    "    def recall(self, recs, train_data, test_data):\n",
    "        correct = 0\n",
    "        total = 0\n",
    "        for user, items in test_data.items():\n",
    "            if user not in recs:\n",
    "                continue\n",
    "            rank = recs[user]\n",
    "            total += len(items)\n",
    "            for movie in rank:\n",
    "                if movie in items:\n",
    "                    correct += 1\n",
    "        rc = round((correct / total)*100, 4)\n",
    "        \n",
    "        return rc\n",
    "    \n",
    "    def coverage(self, recs, test_data, train_data):\n",
    "        all_item, recom_item = set(), set()\n",
    "        for user in test_data:\n",
    "            if user not in recs:\n",
    "                continue\n",
    "            for item in train_data[user]:\n",
    "                all_item.add(item)\n",
    "            rank = recs[user]\n",
    "            for item in rank:\n",
    "                recom_item.add(item)\n",
    "        return round(len(recom_item) / len(all_item) * 100, 4)"
   ]
  },
  {
   "cell_type": "code",
   "execution_count": 84,
   "metadata": {},
   "outputs": [],
   "source": [
    "class MostPopular:\n",
    "    def __init__(self, train_data, N):\n",
    "        self.N = N\n",
    "        self.hot_singer = self.train(train_data)\n",
    "    \n",
    "    \n",
    "    def train(self, train_data):\n",
    "        singers = dict()\n",
    "        for user in train_data:\n",
    "            for singer in train_data[user]:\n",
    "                if singer not in singers:\n",
    "                    singers[singer] = 0\n",
    "                singers[singer] += 1\n",
    "        \n",
    "        hot_singer = sorted(singers.items(), reverse=True, key=lambda x:x[1])\n",
    "        \n",
    "        return list(hot_singer)\n",
    "    \n",
    "    def recommend(self, train_data, test_data):\n",
    "        recs = dict()\n",
    "        for user in test_data:\n",
    "            if user in train_data:\n",
    "                seen_singers = set(train_data[user])\n",
    "                recs[user] = [x[0] for x in self.hot_singer if x[0] not in seen_singers][:self.N]\n",
    "            \n",
    "        return recs "
   ]
  },
  {
   "cell_type": "code",
   "execution_count": 86,
   "metadata": {},
   "outputs": [],
   "source": [
    "class GenderMostPopular:\n",
    "    def __init__(self, train_data, profile, N):\n",
    "        self.N = N\n",
    "        self.hot_f, self.hot_m = self.train(train_data, profile)\n",
    "    \n",
    "    def train(self, train_data, profile):\n",
    "        hot_m = dict()\n",
    "        hot_f = dict()\n",
    "        for user in train_data:\n",
    "            for singer in train_data[user]:\n",
    "                if profile[user]['gender'] == 'm':\n",
    "                    if singer not in hot_m:\n",
    "                        hot_m[singer] = 0\n",
    "                    hot_m[singer] += 1\n",
    "                elif profile[user]['gender'] == 'f':\n",
    "                    if singer not in hot_f:\n",
    "                        hot_f[singer] = 0\n",
    "                    hot_f[singer] += 1\n",
    "        \n",
    "        hot_f = list(sorted(hot_f.items(), reverse=True, key=lambda x:x[1]))\n",
    "        hot_m = list(sorted(hot_m.items(), reverse=True, key=lambda x:x[1]))\n",
    "        \n",
    "        return hot_f, hot_m\n",
    "    \n",
    "    \n",
    "    def recommend(self, train_data, test_data, profile):\n",
    "        recs = dict()\n",
    "        for user in test_data:\n",
    "            if user in train_data:\n",
    "                seen_singer = set(train_data[user])\n",
    "                if profile[user]['gender'] == 'm':\n",
    "                    recs[user] = [x[0] for x in self.hot_m if x[0] not in seen_singer][:self.N]\n",
    "                elif profile[user]['gender'] == 'f':\n",
    "                    recs[user] = [x[0] for x in self.hot_f if x[0] not in seen_singer][:self.N]\n",
    "                    \n",
    "        return recs"
   ]
  },
  {
   "cell_type": "code",
   "execution_count": null,
   "metadata": {},
   "outputs": [],
   "source": [
    "class AgeMostPopular:\n",
    "    def __init__(self, train_data, profile, N):\n",
    "        pass"
   ]
  },
  {
   "cell_type": "code",
   "execution_count": 77,
   "metadata": {},
   "outputs": [
    {
     "name": "stdout",
     "output_type": "stream",
     "text": [
      "file1 loaded.\n",
      "file2 loaded\n"
     ]
    }
   ],
   "source": [
    "dataset = DataSet('lastfm-dataset-360K/usersha1-artmbid-artname-plays.tsv', \n",
    "                 'lastfm-dataset-360K/usersha1-profile.tsv')"
   ]
  },
  {
   "cell_type": "code",
   "execution_count": 78,
   "metadata": {},
   "outputs": [],
   "source": [
    "train_data, test_data, profile = dataset.split_data()"
   ]
  },
  {
   "cell_type": "code",
   "execution_count": 94,
   "metadata": {},
   "outputs": [],
   "source": [
    "mp = MostPopular(train_data, 10)\n",
    "recs1 = mp.recommend(train_data, test_data)"
   ]
  },
  {
   "cell_type": "code",
   "execution_count": 95,
   "metadata": {},
   "outputs": [
    {
     "name": "stdout",
     "output_type": "stream",
     "text": [
      "4.5484 2.2507 0.0565\n"
     ]
    }
   ],
   "source": [
    "metric1 = Metrics(recs1, train_data, test_data)\n",
    "print(metric1.rc, metric1.prec, metric1.cov)"
   ]
  },
  {
   "cell_type": "code",
   "execution_count": 87,
   "metadata": {},
   "outputs": [],
   "source": [
    "gmp = GenderMostPopular(train_data, profile, 10)\n",
    "recs2 = gmp.recommend(train_data, test_data, profile)"
   ]
  },
  {
   "cell_type": "code",
   "execution_count": 92,
   "metadata": {},
   "outputs": [
    {
     "name": "stdout",
     "output_type": "stream",
     "text": [
      "4.7806 2.3644 0.0822\n"
     ]
    }
   ],
   "source": [
    "metric2 = Metrics(recs2, train_data, test_data)\n",
    "print(metric2.rc, metric2.prec, metric2.cov)"
   ]
  },
  {
   "cell_type": "code",
   "execution_count": 83,
   "metadata": {},
   "outputs": [
    {
     "data": {
      "text/plain": [
       "0.0565"
      ]
     },
     "execution_count": 83,
     "metadata": {},
     "output_type": "execute_result"
    }
   ],
   "source": [
    "metric.cov"
   ]
  },
  {
   "cell_type": "code",
   "execution_count": null,
   "metadata": {},
   "outputs": [],
   "source": []
  }
 ],
 "metadata": {
  "kernelspec": {
   "display_name": "Python 3",
   "language": "python",
   "name": "python3"
  },
  "language_info": {
   "codemirror_mode": {
    "name": "ipython",
    "version": 3
   },
   "file_extension": ".py",
   "mimetype": "text/x-python",
   "name": "python",
   "nbconvert_exporter": "python",
   "pygments_lexer": "ipython3",
   "version": "3.5.2"
  }
 },
 "nbformat": 4,
 "nbformat_minor": 2
}
