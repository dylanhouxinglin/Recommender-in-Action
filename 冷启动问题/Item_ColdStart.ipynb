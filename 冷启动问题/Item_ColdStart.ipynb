{
 "cells": [
  {
   "cell_type": "code",
   "execution_count": 1,
   "metadata": {},
   "outputs": [],
   "source": [
    "import numpy as np\n",
    "import random\n",
    "import pandas as pd\n",
    "import math\n",
    "import sys"
   ]
  },
  {
   "cell_type": "code",
   "execution_count": 2,
   "metadata": {},
   "outputs": [],
   "source": [
    "class Dataset:\n",
    "    def __init__(self, path1='../chapter2/movielens_data/ratings.dat', path2='../chapter2/movielens_data/movies.dat'):\n",
    "        self.data, self.contents = self.load_data(path1, path2)\n",
    "    \n",
    "    def load_data(self, path1, path2):\n",
    "        data = []\n",
    "        with open(path1) as file:\n",
    "            for l in file:\n",
    "                data.append(tuple(map(int, l.strip().split('::')[:2])))\n",
    "        \n",
    "        contents = dict()\n",
    "        with open(path2, 'rb') as file:\n",
    "            for l in file:\n",
    "                l = str(l)[2:-1]\n",
    "                contents[int(l.strip().split('::')[0])] = l.strip().split('::')[-1].split('|')\n",
    "        \n",
    "        for item, cont in contents.items():\n",
    "            cont[-1] = cont[-1].strip('\\\\n')\n",
    "        \n",
    "        return data, contents\n",
    "    \n",
    "    def split_data(self, M=10, k=3, seed=1):\n",
    "        test = []\n",
    "        train = []\n",
    "        random.seed(seed)\n",
    "        \n",
    "        for user, item in self.data:\n",
    "            if random.randint(0, M-1) == k:\n",
    "                test.append((user, item))\n",
    "            else:\n",
    "                train.append((user, item))\n",
    "        \n",
    "        def convert_dict(data):\n",
    "            data_dict = {}\n",
    "            for user, item in data:\n",
    "                if user not in data_dict:\n",
    "                    data_dict[user] = set()\n",
    "                data_dict[user].add(item)\n",
    "            data_dict = {k: list(data_dict[k]) for k in data_dict}\n",
    "            return data_dict\n",
    "        \n",
    "        return convert_dict(train), convert_dict(test)"
   ]
  },
  {
   "cell_type": "code",
   "execution_count": 66,
   "metadata": {},
   "outputs": [],
   "source": [
    "class Metrics:\n",
    "    def __init__(self, recs, train_data, test_data):\n",
    "        self.prec = self.precision(recs, train_data, test_data)\n",
    "        self.rc = self.recall(recs, train_data, test_data)\n",
    "        self.cov = self.coverage(recs, test_data, train_data)\n",
    "    \n",
    "    \n",
    "    def precision(self, recs, train_data, test_data):\n",
    "        correct = 0\n",
    "        total = 0\n",
    "        for user, items in test_data.items():\n",
    "            # items : movies which user have interacted\n",
    "            if user not in recs:\n",
    "                continue\n",
    "            rank = recs[user]\n",
    "            total += len(rank)\n",
    "            for movie in rank[0]:\n",
    "                # movie : our recommendation item\n",
    "                if movie in items:\n",
    "                    correct += 1\n",
    "        prec = round((correct / total)*100, 4)\n",
    "        \n",
    "        return prec\n",
    "    \n",
    "    \n",
    "    def recall(self, recs, train_data, test_data):\n",
    "        correct = 0\n",
    "        total = 0\n",
    "        for user, items in test_data.items():\n",
    "            if user not in recs:\n",
    "                continue\n",
    "            rank = recs[user]\n",
    "            total += len(items)\n",
    "            for movie in rank[0]:\n",
    "                if movie in items:\n",
    "                    correct += 1\n",
    "        rc = round((correct / total)*100, 4)\n",
    "        \n",
    "        return rc\n",
    "    \n",
    "    def coverage(self, recs, test_data, train_data):\n",
    "        all_item, recom_item = set(), set()\n",
    "        for user in test_data:\n",
    "            if user not in recs:\n",
    "                continue\n",
    "            for item in train_data[user]:\n",
    "                all_item.add(item)\n",
    "            rank = recs[user]\n",
    "            for item in rank[0]:\n",
    "                recom_item.add(item)\n",
    "        return round(len(recom_item) / len(all_item) * 100, 4)"
   ]
  },
  {
   "cell_type": "code",
   "execution_count": 51,
   "metadata": {},
   "outputs": [],
   "source": [
    "class ItemContentKNN:\n",
    "    def __init__(self, train_data, test_data, contents, N):\n",
    "        self.N = N\n",
    "        self.item_similar, self.similar = self.train(train_data, contents)\n",
    "    \n",
    "    def train(self, train_data, contents):\n",
    "        # establish word-item table\n",
    "        word_item = dict()\n",
    "        for item in contents:\n",
    "            for word in contents[item]:\n",
    "                if word not in word_item:\n",
    "                    word_item[word] = dict()\n",
    "                word_item[word][item] = 1\n",
    "                \n",
    "        for word in word_item:\n",
    "            for item in word_item[word]:\n",
    "                word_item[word][item] /= math.log(1 + len(word_item[word]))\n",
    "        \n",
    "        item_similar = dict()\n",
    "        mo = dict()\n",
    "        for word in word_item:\n",
    "            for item in word_item[word]:\n",
    "                if item not in item_similar:\n",
    "                    item_similar[item] = dict()\n",
    "                    mo[item] = 0\n",
    "                mo[item] += word_item[word][item] ** 2\n",
    "                for other in word_item[word]:\n",
    "                    if item == other:\n",
    "                        continue\n",
    "                    if other not in item_similar[item]:\n",
    "                        item_similar[item][other] = 0\n",
    "                    item_similar[item][other] += word_item[word][item] * word_item[word][other]\n",
    "        \n",
    "        for u in item_similar:\n",
    "            for v in item_similar[u]:\n",
    "                item_similar[u][v] /= math.sqrt(mo[u] * mo[v])\n",
    "    \n",
    "        similar = {k: list(sorted(v.items(), reverse=True, key=lambda x:x[1])) for k, v in item_similar.items()}\n",
    "        \n",
    "        # item_similar: {item1:{item2:xxx,item3:xxx ...}, item2:{item1:xxx,item3:xxx ...} ...}\n",
    "        return item_similar, similar\n",
    "    \n",
    "    \n",
    "    def recommend(self, train_data, test_data, K):\n",
    "        recs = dict()\n",
    "        items = dict()\n",
    "        for user in train_data:\n",
    "            seen_items = set(train_data[user])\n",
    "            for item in train_data[user]:\n",
    "                for u, _ in self.similar[item][:K]:\n",
    "                    if u in seen_items:\n",
    "                        continue\n",
    "                    if u not in items:\n",
    "                        items[u] = 0\n",
    "                    items[u] += self.item_similar[item][u]\n",
    "                    \n",
    "            recs[user] = list(sorted(items.items(), reverse=True, key=lambda x:x[1]))[:self.N]\n",
    "            items.clear()\n",
    "            \n",
    "        return recs"
   ]
  },
  {
   "cell_type": "code",
   "execution_count": 7,
   "metadata": {},
   "outputs": [],
   "source": [
    "dataset = Dataset()\n",
    "train_data, test_data = dataset.split_data()"
   ]
  },
  {
   "cell_type": "code",
   "execution_count": 61,
   "metadata": {},
   "outputs": [],
   "source": [
    "ick = ItemContentKNN(train_data, test_data, dataset.contents, 10)"
   ]
  },
  {
   "cell_type": "code",
   "execution_count": 84,
   "metadata": {},
   "outputs": [],
   "source": [
    "recs = ick.recommend(train_data, test_data, 12)"
   ]
  },
  {
   "cell_type": "code",
   "execution_count": 85,
   "metadata": {},
   "outputs": [],
   "source": [
    "metric = Metrics(recs, train_data, test_data)"
   ]
  },
  {
   "cell_type": "code",
   "execution_count": 86,
   "metadata": {},
   "outputs": [
    {
     "name": "stdout",
     "output_type": "stream",
     "text": [
      "0.1634 0.2734 37.8517\n"
     ]
    }
   ],
   "source": [
    "print(metric.rc, metric.prec, metric.cov)"
   ]
  },
  {
   "cell_type": "code",
   "execution_count": null,
   "metadata": {},
   "outputs": [],
   "source": []
  },
  {
   "cell_type": "code",
   "execution_count": null,
   "metadata": {},
   "outputs": [],
   "source": []
  }
 ],
 "metadata": {
  "kernelspec": {
   "display_name": "Python 3",
   "language": "python",
   "name": "python3"
  },
  "language_info": {
   "codemirror_mode": {
    "name": "ipython",
    "version": 3
   },
   "file_extension": ".py",
   "mimetype": "text/x-python",
   "name": "python",
   "nbconvert_exporter": "python",
   "pygments_lexer": "ipython3",
   "version": "3.5.2"
  }
 },
 "nbformat": 4,
 "nbformat_minor": 2
}
